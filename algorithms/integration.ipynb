{
 "cells": [
  {
   "cell_type": "code",
   "execution_count": 33,
   "metadata": {},
   "outputs": [],
   "source": [
    "def f(x):\n",
    "    return 4-x*x\n",
    "\n",
    "def F(x):\n",
    "    return 4*x - x**3/3"
   ]
  },
  {
   "cell_type": "code",
   "execution_count": 34,
   "metadata": {},
   "outputs": [],
   "source": [
    "def trapz(f, a, b, n=10):\n",
    "    h = (b-a)/n\n",
    "    s = 0.5*(f(a)+f(b))\n",
    "    for i in range(1, n):\n",
    "        s += f(a+i*h)\n",
    "    return s*h"
   ]
  },
  {
   "cell_type": "code",
   "execution_count": 35,
   "metadata": {},
   "outputs": [],
   "source": [
    "def simpson(f, a,b,n=10):\n",
    "    h = (b-a)/n\n",
    "    s = f(a) + f(b)\n",
    "    for i in range(1, n):\n",
    "        x = a + i*h\n",
    "        if i%2 == 0:\n",
    "            s += 2*f(x)\n",
    "        else:\n",
    "            s += 4*f(x)\n",
    "    \n",
    "    return s*h/3"
   ]
  },
  {
   "cell_type": "code",
   "execution_count": 36,
   "metadata": {},
   "outputs": [],
   "source": [
    "def rectangle(f, a, b, n=10):\n",
    "    h = (b-a)/n\n",
    "    s = 0\n",
    "    for i in range(n):\n",
    "        s += f(a+i*h)\n",
    "    return s*h"
   ]
  },
  {
   "cell_type": "code",
   "execution_count": 37,
   "metadata": {},
   "outputs": [
    {
     "name": "stdout",
     "output_type": "stream",
     "text": [
      "Trapz:  5.319999999999999 vs. exact:  5.333333333333334\n"
     ]
    }
   ],
   "source": [
    "print(\"Trapz: \", trapz(f, 0, 2), \"vs. exact: \", F(2)-F(0))"
   ]
  },
  {
   "cell_type": "code",
   "execution_count": 38,
   "metadata": {},
   "outputs": [
    {
     "name": "stdout",
     "output_type": "stream",
     "text": [
      "Simpson:  5.333333333333333 vs. exact:  5.333333333333334\n"
     ]
    }
   ],
   "source": [
    "print(\"Simpson: \", simpson(f, 0, 2), \"vs. exact: \", F(2)-F(0))"
   ]
  },
  {
   "cell_type": "code",
   "execution_count": 39,
   "metadata": {},
   "outputs": [
    {
     "name": "stdout",
     "output_type": "stream",
     "text": [
      "Rectangle:  5.719999999999999 vs. exact:  5.333333333333334\n"
     ]
    }
   ],
   "source": [
    "print(\"Rectangle: \", rectangle(f, 0, 2), \"vs. exact: \", F(2)-F(0))"
   ]
  }
 ],
 "metadata": {
  "kernelspec": {
   "display_name": "Python 3",
   "language": "python",
   "name": "python3"
  },
  "language_info": {
   "codemirror_mode": {
    "name": "ipython",
    "version": 3
   },
   "file_extension": ".py",
   "mimetype": "text/x-python",
   "name": "python",
   "nbconvert_exporter": "python",
   "pygments_lexer": "ipython3",
   "version": "3.10.6 (main, Nov 14 2022, 16:10:14) [GCC 11.3.0]"
  },
  "orig_nbformat": 4,
  "vscode": {
   "interpreter": {
    "hash": "916dbcbb3f70747c44a77c7bcd40155683ae19c65e1c03b4aa3499c5328201f1"
   }
  }
 },
 "nbformat": 4,
 "nbformat_minor": 2
}
