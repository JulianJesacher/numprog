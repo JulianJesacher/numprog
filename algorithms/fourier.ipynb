{
 "cells": [
  {
   "cell_type": "code",
   "execution_count": 38,
   "metadata": {},
   "outputs": [],
   "source": [
    "import numpy as np"
   ]
  },
  {
   "cell_type": "code",
   "execution_count": 39,
   "metadata": {},
   "outputs": [],
   "source": [
    "b=np.array([1,2,-4,0])"
   ]
  },
  {
   "attachments": {},
   "cell_type": "markdown",
   "metadata": {},
   "source": [
    "# Matrix-based DFT\n",
    "\n",
    "$$\n",
    "\\omega = e^{2\\pi i/N} \\\\\n",
    "\\\\\n",
    "DFT_{MATRIX}=\\begin{bmatrix}\n",
    "1 & 1 &1 &\\dots &1\\\\\n",
    "1 & \\overline{\\omega} & \\overline{\\omega^2} &\\dots &\\overline{\\omega^{N-1}}\\\\\n",
    "1 & \\overline{\\omega^2} & \\overline{\\omega^4} &\\dots &\\overline{\\omega^{2(N-1)}}\\\\\n",
    "\\vdots & \\vdots & \\vdots & \\vdots\\\\\n",
    "1 & \\overline{\\omega^{N-1}} & \\overline{\\omega^{2(N-1)}} &\\dots &\\overline{\\omega^{(N-1)(N-1)}}\\\\\n",
    "\\end{bmatrix}\n",
    "$$"
   ]
  },
  {
   "cell_type": "code",
   "execution_count": 40,
   "metadata": {},
   "outputs": [],
   "source": [
    "def dft(b):\n",
    "    N=len(b)\n",
    "    omega=np.conjugate(np.exp(2j*np.pi/N))\n",
    "    DFT_Matrix=np.zeros((N,N),dtype=complex)\n",
    "    for k in range(N):\n",
    "        for j in range(N):\n",
    "            DFT_Matrix[k,j]=omega**(k*j)\n",
    "\n",
    "    return DFT_Matrix @ b"
   ]
  },
  {
   "cell_type": "code",
   "execution_count": 41,
   "metadata": {},
   "outputs": [
    {
     "name": "stdout",
     "output_type": "stream",
     "text": [
      "Real part of DFT: [-1.  5. -5.  5.]\n",
      "Imaginary part of DFT: [ 0. -2. -0.  2.]\n"
     ]
    }
   ],
   "source": [
    "c_t=dft(b)\n",
    "real=np.round(np.real(c_t),2)\n",
    "imag=np.round(np.imag(c_t),2)\n",
    "\n",
    "print(\"Real part of DFT:\",real)\n",
    "print(\"Imaginary part of DFT:\",imag)"
   ]
  },
  {
   "attachments": {},
   "cell_type": "markdown",
   "metadata": {},
   "source": [
    "# Matrix-based IDFT\n",
    "\n",
    "$$\n",
    "\\omega = e^{2\\pi i/N} \\\\\n",
    "\\\\\n",
    "IDFT_{MATRIX}=\\begin{bmatrix}\n",
    "1 & 1 &1 &\\dots &1\\\\\n",
    "1 & \\omega & \\omega^2 &\\dots &\\omega^{N-1}\\\\\n",
    "1 & \\omega^2 & \\omega^4 &\\dots &\\omega^{2(N-1)}\\\\\n",
    "\\vdots & \\vdots & \\vdots & \\vdots\\\\\n",
    "1 & \\omega^{N-1} & \\omega^{2(N-1)} &\\dots &\\omega^{(N-1)(N-1)}\\\\\n",
    "\\end{bmatrix}"
   ]
  },
  {
   "cell_type": "code",
   "execution_count": 42,
   "metadata": {},
   "outputs": [],
   "source": [
    "def idft(c):\n",
    "    N=len(c)\n",
    "    omega=np.exp(2j*np.pi/N)\n",
    "    IDFT_Matrix=np.zeros((N,N),dtype=complex)\n",
    "    for k in range(N):\n",
    "        for j in range(N):\n",
    "            IDFT_Matrix[k,j]=omega**(k*j)\n",
    "\n",
    "    return 1/N*IDFT_Matrix @ c"
   ]
  },
  {
   "cell_type": "code",
   "execution_count": 43,
   "metadata": {},
   "outputs": [
    {
     "name": "stdout",
     "output_type": "stream",
     "text": [
      "Real part of IDFT: [ 1.  2. -4.  0.]\n",
      "Imaginary part of IDFT: [0. 0. 0. 0.]\n"
     ]
    }
   ],
   "source": [
    "b_t=idft(c_t)\n",
    "\n",
    "real=np.round(np.real(b_t),2)\n",
    "imag=np.round(np.imag(b_t),2)\n",
    "\n",
    "print(\"Real part of IDFT:\",real)\n",
    "print(\"Imaginary part of IDFT:\",imag)"
   ]
  },
  {
   "attachments": {},
   "cell_type": "markdown",
   "metadata": {},
   "source": [
    "# FFT"
   ]
  },
  {
   "cell_type": "code",
   "execution_count": 44,
   "metadata": {},
   "outputs": [],
   "source": [
    "def fft(b):\n",
    "    N=len(b)\n",
    "    if N==1:\n",
    "        return b\n",
    "    else:\n",
    "        omega=np.conjugate(np.exp(2j*np.pi/N))\n",
    "        b_even,b_odd=fft(b[0::2]),fft(b[1::2])\n",
    "        \n",
    "        b_even_odd=np.zeros(N,dtype=complex)\n",
    "        for k in range(N//2):\n",
    "            b_even_odd[k]=b_even[k]+omega**(k)*b_odd[k]\n",
    "            b_even_odd[k+N//2]=b_even[k]-omega**(k)*b_odd[k]\n",
    "        return b_even_odd\n"
   ]
  },
  {
   "cell_type": "code",
   "execution_count": 45,
   "metadata": {},
   "outputs": [
    {
     "name": "stdout",
     "output_type": "stream",
     "text": [
      "Real part of FFT: [-1.  5. -5.  5.]\n",
      "Imaginary part of FFT: [ 0. -2.  0.  2.]\n"
     ]
    }
   ],
   "source": [
    "c_t=fft(b)\n",
    "\n",
    "real=np.round(np.real(c_t),2)\n",
    "imag=np.round(np.imag(c_t),2)\n",
    "\n",
    "print(\"Real part of FFT:\",real)\n",
    "print(\"Imaginary part of FFT:\",imag)"
   ]
  },
  {
   "attachments": {},
   "cell_type": "markdown",
   "metadata": {},
   "source": [
    "# IFFT"
   ]
  },
  {
   "cell_type": "code",
   "execution_count": 46,
   "metadata": {},
   "outputs": [],
   "source": [
    "def ifft(c):\n",
    "    def ifft_helper(c):\n",
    "        N=len(c)\n",
    "        if N==1:\n",
    "            return c\n",
    "        else:\n",
    "            omega=np.exp(2j*np.pi/N)\n",
    "            c_even,c_odd=ifft_helper(c[0::2]),ifft_helper(c[1::2])\n",
    "            \n",
    "            c_even_odd=np.zeros(N,dtype=complex)\n",
    "            for k in range(N//2):\n",
    "                c_even_odd[k]=c_even[k]+omega**(k)*c_odd[k]\n",
    "                c_even_odd[k+N//2]=c_even[k]-omega**(k)*c_odd[k]\n",
    "            return c_even_odd\n",
    "    return ifft_helper(c) / len(c)"
   ]
  },
  {
   "cell_type": "code",
   "execution_count": 47,
   "metadata": {},
   "outputs": [
    {
     "name": "stdout",
     "output_type": "stream",
     "text": [
      "Real part of IFFT: [ 1.  2. -4.  0.]\n",
      "Imaginary part of IFFT: [ 0. -0.  0.  0.]\n"
     ]
    }
   ],
   "source": [
    "b_t=ifft(c_t)\n",
    "\n",
    "real=np.round(np.real(b_t),2)\n",
    "imag=np.round(np.imag(b_t),2)\n",
    "\n",
    "print(\"Real part of IFFT:\",real)\n",
    "print(\"Imaginary part of IFFT:\",imag)"
   ]
  },
  {
   "attachments": {},
   "cell_type": "markdown",
   "metadata": {},
   "source": [
    "# Butterfly Diagram\n",
    "\n",
    "$$\n",
    "\\omega = e^{2\\pi i/N} \\\\\n",
    "$$\n",
    "\n",
    "$$\n",
    "Butterfly_{Operator}=\\begin{bmatrix}\n",
    "a\\\\\n",
    "b\\\\\n",
    "\\end{bmatrix}\n",
    "\\mapsto\n",
    "\\begin{bmatrix}\n",
    "a + \\omega^j b\\\\\n",
    "a - \\omega^j b\\\\\n",
    "\\end{bmatrix}\n",
    "$$"
   ]
  },
  {
   "cell_type": "code",
   "execution_count": 48,
   "metadata": {},
   "outputs": [
    {
     "data": {
      "image/png": "[encoded data removed]",
      "text/plain": [
       "<IPython.core.display.Image object>"
      ]
     },
     "execution_count": 48,
     "metadata": {},
     "output_type": "execute_result"
    }
   ],
   "source": [
    "from IPython.display import Image\n",
    "Image(filename='butterfly_diagram.png')"
   ]
  },
  {
   "attachments": {},
   "cell_type": "markdown",
   "metadata": {},
   "source": [
    "# Inverse Butterfly Diagram\n",
    "\n",
    "$$\n",
    "\\omega = e^{-2\\pi i/N} \\\\\n",
    "$$\n",
    "\n",
    "$$\n",
    "Butterfly_{Operator}=\\begin{bmatrix}\n",
    "a\\\\\n",
    "b\\\\\n",
    "\\end{bmatrix}\n",
    "\\mapsto\n",
    "\\begin{bmatrix}\n",
    "a + \\omega^j b\\\\\n",
    "a - \\omega^j b\\\\\n",
    "\\end{bmatrix}\n",
    "$$\n",
    "\n",
    "The Resulting Vector of the Butterfly Diagram needs to be normalized by $\\frac{1}{N}$."
   ]
  },
  {
   "cell_type": "code",
   "execution_count": 56,
   "metadata": {},
   "outputs": [
    {
     "data": {
      "image/png": "[encoded data removed]",
      "text/plain": [
       "<IPython.core.display.Image object>"
      ]
     },
     "execution_count": 56,
     "metadata": {},
     "output_type": "execute_result"
    }
   ],
   "source": [
    "from IPython.display import Image\n",
    "Image(filename='inverse_butterfly_diagram.png')"
   ]
  },
  {
   "cell_type": "code",
   "execution_count": null,
   "metadata": {},
   "outputs": [],
   "source": []
  }
 ],
 "metadata": {
  "kernelspec": {
   "display_name": "Python 3",
   "language": "python",
   "name": "python3"
  },
  "language_info": {
   "codemirror_mode": {
    "name": "ipython",
    "version": 3
   },
   "file_extension": ".py",
   "mimetype": "text/x-python",
   "name": "python",
   "nbconvert_exporter": "python",
   "pygments_lexer": "ipython3",
   "version": "3.10.6 (main, Nov 14 2022, 16:10:14) [GCC 11.3.0]"
  },
  "orig_nbformat": 4,
  "vscode": {
   "interpreter": {
    "hash": "916dbcbb3f70747c44a77c7bcd40155683ae19c65e1c03b4aa3499c5328201f1"
   }
  }
 },
 "nbformat": 4,
 "nbformat_minor": 2
}
